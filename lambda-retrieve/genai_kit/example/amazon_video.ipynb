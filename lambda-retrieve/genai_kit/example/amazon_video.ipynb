{
 "cells": [
  {
   "cell_type": "code",
   "execution_count": null,
   "metadata": {},
   "outputs": [],
   "source": [
    "import os\n",
    "import sys\n",
    "sys.path.append(os.path.abspath(\"../../\"))\n",
    "\n",
    "\n",
    "from genai_kit.aws.bedrock import BedrockModel\n",
    "from genai_kit.aws.amazon_image import BedrockAmazonImage, ImageParams, ImageSize\n",
    "from genai_kit.aws.amazon_video import BedrockAmazonVideo, VideoStatus\n",
    "from genai_kit.utils.images import *"
   ]
  },
  {
   "cell_type": "code",
   "execution_count": null,
   "metadata": {},
   "outputs": [],
   "source": [
    "bedrock_video = BedrockAmazonVideo(\n",
    "    region='us-east-1',\n",
    "    modelId=BedrockModel.NOVA_REAL,\n",
    "    bucket_name='hi-nova-video'\n",
    ")"
   ]
  },
  {
   "cell_type": "markdown",
   "metadata": {},
   "source": [
    "## Text-to-Video"
   ]
  },
  {
   "cell_type": "code",
   "execution_count": null,
   "metadata": {},
   "outputs": [],
   "source": [
    "invocation = bedrock_video.generate_video(text=\"three cups\")\n",
    "print(invocation)"
   ]
  },
  {
   "cell_type": "code",
   "execution_count": null,
   "metadata": {},
   "outputs": [],
   "source": [
    "bedrock_video.query_job(invocation)"
   ]
  },
  {
   "cell_type": "code",
   "execution_count": null,
   "metadata": {},
   "outputs": [],
   "source": [
    "bedrock_video.list_jobs()"
   ]
  },
  {
   "cell_type": "code",
   "execution_count": null,
   "metadata": {},
   "outputs": [],
   "source": [
    "video = bedrock_video.get_video(invocation_arn=invocation)\n",
    "display_video(video)"
   ]
  },
  {
   "cell_type": "markdown",
   "metadata": {},
   "source": [
    "## Image-to-Video"
   ]
  },
  {
   "cell_type": "code",
   "execution_count": null,
   "metadata": {},
   "outputs": [],
   "source": [
    "text = \"a cute puppy\"\n",
    "\n",
    "novaCanvas = BedrockAmazonImage()\n",
    "params = ImageParams(size=ImageSize.SIZE_1280x768)\n",
    "body = params.text_to_image(text=text)\n",
    "res = novaCanvas.generate_image(body=body)\n",
    "display_image(res)"
   ]
  },
  {
   "cell_type": "code",
   "execution_count": null,
   "metadata": {},
   "outputs": [],
   "source": [
    "img = base64_to_image(res[0])\n",
    "resized_img = resize_image(img, width=1280, height=720)\n",
    "resized_imgbase64 = encode_image_base64(resized_img)\n",
    "display_image(resized_imgbase64)"
   ]
  },
  {
   "cell_type": "code",
   "execution_count": null,
   "metadata": {},
   "outputs": [],
   "source": [
    "invocation2 = bedrock_video.generate_video(text=text, image=resized_imgbase64)\n",
    "print(invocation2)"
   ]
  },
  {
   "cell_type": "code",
   "execution_count": null,
   "metadata": {},
   "outputs": [],
   "source": [
    "video = bedrock_video.get_video(invocation_arn=invocation2)\n",
    "display_video(video)"
   ]
  }
 ],
 "metadata": {
  "kernelspec": {
   "display_name": "base",
   "language": "python",
   "name": "python3"
  },
  "language_info": {
   "codemirror_mode": {
    "name": "ipython",
    "version": 3
   },
   "file_extension": ".py",
   "mimetype": "text/x-python",
   "name": "python",
   "nbconvert_exporter": "python",
   "pygments_lexer": "ipython3",
   "version": "3.9.12"
  }
 },
 "nbformat": 4,
 "nbformat_minor": 2
}
